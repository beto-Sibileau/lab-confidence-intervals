{
 "cells": [
  {
   "cell_type": "markdown",
   "metadata": {},
   "source": [
    "# Confidence Intervals"
   ]
  },
  {
   "cell_type": "code",
   "execution_count": 1,
   "metadata": {},
   "outputs": [],
   "source": [
    "# Libraries\n",
    "from scipy.stats import norm\n",
    "from scipy.stats import bernoulli\n",
    "from scipy.stats import t\n",
    "import pandas as pd\n",
    "import numpy as np\n",
    "import matplotlib.pyplot as plt"
   ]
  },
  {
   "cell_type": "markdown",
   "metadata": {},
   "source": [
    "## Challenge 1\n",
    "We want to estimate the average size of the men of a country with a confidence level of 80%. Assuming that the standard deviation of the sizes in the population is 4, get the confidence interval with a sample of men selected randomly, whose heights are:\n",
    "\n",
    "````\n",
    "heights = [167, 167, 168, 168, 168, 169, 171, 172, 173, 175, 175, 175, 177, 182, 195]\n",
    "````\n",
    "\n",
    "**Hint**: function `stats.norm.interval` from `scipy` can help you get through this exercise. "
   ]
  },
  {
   "cell_type": "code",
   "execution_count": 2,
   "metadata": {},
   "outputs": [
    {
     "name": "stdout",
     "output_type": "stream",
     "text": [
      "Confidence interval of 80% confidence for men's height average is [172.14,174.79]\n"
     ]
    }
   ],
   "source": [
    "# your code here\n",
    "# we already know the real standard deviation?\n",
    "# sample:\n",
    "heights = [167, 167, 168, 168, 168, 169, 171, 172, 173, 175, 175, 175, 177, 182, 195]\n",
    "sample_n = len(heights)\n",
    "# Endpoints of the range that contains 'alpha' percent of the distribution\n",
    "alpha = 0.8\n",
    "# alpha = (1 - des_confidence)/2\n",
    "mean_h = pd.DataFrame(heights).mean()\n",
    "std_h  = pd.DataFrame(heights).std()\n",
    "std_pop = 4\n",
    "conf_interval = norm.interval(alpha, loc=mean_h, scale=std_pop/np.sqrt(sample_n))\n",
    "i_0 = round(conf_interval[0][0],2)\n",
    "i_1 = round(conf_interval[1][0],2)\n",
    "print(f\"Confidence interval of 80% confidence for men's height average is [{i_0},{i_1}]\")"
   ]
  },
  {
   "cell_type": "code",
   "execution_count": 3,
   "metadata": {},
   "outputs": [
    {
     "data": {
      "text/plain": [
       "<matplotlib.legend.Legend at 0x244620b20c8>"
      ]
     },
     "execution_count": 3,
     "metadata": {},
     "output_type": "execute_result"
    },
    {
     "data": {
      "image/png": "[encoded data removed]",
      "text/plain": [
       "<Figure size 576x360 with 1 Axes>"
      ]
     },
     "metadata": {
      "needs_background": "light"
     },
     "output_type": "display_data"
    }
   ],
   "source": [
    "# print that stuff !!!\n",
    "x = np.linspace(norm.ppf(0.01,loc=mean_h,scale=std_pop),norm.ppf(0.99,loc=mean_h,scale=std_pop), 100)\n",
    "array = norm.pdf(x,loc=mean_h,scale=std_pop)\n",
    "plt.figure(figsize=[8,5])\n",
    "plt.plot(x, array,'r-', lw=5, alpha=0.6, label='norm pdf')\n",
    "plt.vlines(conf_interval, 0, norm.pdf(conf_interval,loc=mean_h,scale=std_pop), colors='b', lw=2, alpha=0.2)\n",
    "plt.xticks(fontsize=12)\n",
    "plt.yticks(fontsize=12)\n",
    "plt.legend(fontsize=14)\n",
    "# plt.vlines(x, 0, arr, colors='b', lw=2, alpha=0.2)\n"
   ]
  },
  {
   "cell_type": "markdown",
   "metadata": {},
   "source": [
    "## Challenge 2 \n",
    "In a sample of 105 shops selected randomly from an area, we note that 27 of them have had losses in this month. Get an interval for the proportion of businesses in the area with losses to a confidence level of 80% and a confidence level of 90%.\n",
    "\n",
    "**Hint**: function `stats.norm.interval` from `scipy` can help you get through this exercise. "
   ]
  },
  {
   "cell_type": "code",
   "execution_count": 4,
   "metadata": {},
   "outputs": [
    {
     "name": "stdout",
     "output_type": "stream",
     "text": [
      "Confidence interval of 80% confidence for losses proportion is [20.25%,31.18%]\n",
      "Confidence interval of 90% confidence for losses proportion is [18.7%,32.73%]\n"
     ]
    }
   ],
   "source": [
    "# your code here\n",
    "sample_n    = 105\n",
    "losses_prop = 27/sample_n\n",
    "# Endpoints of the range that contains 'alpha' percent of the distribution\n",
    "alpha = [0.8,0.9]\n",
    "# Use standard deviation from a Bernoulli distribution\n",
    "std_pop = bernoulli.std(losses_prop)\n",
    "conf_interval = [norm.interval(a, loc=losses_prop, scale=std_pop/np.sqrt(sample_n)) for a in alpha]\n",
    "i_0_08 = round(conf_interval[0][0]*100,2)\n",
    "i_1_08 = round(conf_interval[0][1]*100,2)\n",
    "i_0_09 = round(conf_interval[1][0]*100,2)\n",
    "i_1_09 = round(conf_interval[1][1]*100,2)\n",
    "print(f\"Confidence interval of 80% confidence for losses proportion is [{i_0_08}%,{i_1_08}%]\")\n",
    "print(f\"Confidence interval of 90% confidence for losses proportion is [{i_0_09}%,{i_1_09}%]\")"
   ]
  },
  {
   "cell_type": "markdown",
   "metadata": {},
   "source": [
    "## Challenge 3 - More practice\n",
    "For the same example in challenge 1, calculate a confidence interval for the variance at 90% level.\n",
    "\n",
    "**Hint**: function `stats.chi2.interval` from `scipy` can help you get through this exercise. "
   ]
  },
  {
   "cell_type": "code",
   "execution_count": 5,
   "metadata": {},
   "outputs": [],
   "source": [
    "# your code here"
   ]
  },
  {
   "cell_type": "markdown",
   "metadata": {},
   "source": [
    "## Challenge 4 - More practice\n",
    "The sulfuric acid content of 7 similar containers is 9.8, 10.2, 10.4, 9.8, 10.0, 10.2 and 9.6 liters. Calculate a 95% confidence interval for the average content of all containers assuming an approximately normal distribution.\n",
    "\n",
    "```\n",
    "acid = [9.8, 10.2, 10.4, 9.8, 10.0, 10.2, 9.6]\n",
    "```\n",
    "\n",
    "**Hint**: function `stats.t.interval` from `scipy` can help you get through this exercise. "
   ]
  },
  {
   "cell_type": "code",
   "execution_count": 6,
   "metadata": {},
   "outputs": [
    {
     "name": "stdout",
     "output_type": "stream",
     "text": [
      "Confidence interval of 95% confidence for average acid is [9.74,10.26]\n"
     ]
    }
   ],
   "source": [
    "# your code here\n",
    "acid = [9.8, 10.2, 10.4, 9.8, 10.0, 10.2, 9.6]\n",
    "sample_n = len(acid)\n",
    "# degrees of freedom (dof)\n",
    "dof = sample_n - 1\n",
    "# calculate mean and std FROM the sample\n",
    "mean_acid = pd.DataFrame(acid).mean()\n",
    "std_acid  = pd.DataFrame(acid).std()\n",
    "# Endpoints of the range that contains 'alpha' percent of the distribution\n",
    "alpha = 0.95\n",
    "conf_interval = t.interval(alpha, dof, loc=mean_acid, scale=std_acid/np.sqrt(sample_n))\n",
    "i_0 = round(conf_interval[0][0],2)\n",
    "i_1 = round(conf_interval[1][0],2)\n",
    "print(f\"Confidence interval of 95% confidence for average acid is [{i_0},{i_1}]\")"
   ]
  },
  {
   "cell_type": "code",
   "execution_count": 7,
   "metadata": {},
   "outputs": [
    {
     "data": {
      "text/plain": [
       "<matplotlib.legend.Legend at 0x244620b2588>"
      ]
     },
     "execution_count": 7,
     "metadata": {},
     "output_type": "execute_result"
    },
    {
     "data": {
      "image/png": "[encoded data removed]",
      "text/plain": [
       "<Figure size 576x360 with 1 Axes>"
      ]
     },
     "metadata": {
      "needs_background": "light"
     },
     "output_type": "display_data"
    }
   ],
   "source": [
    "# print that stuff !!!\n",
    "x = np.linspace(norm.ppf(0.01,loc=mean_acid,scale=std_acid),norm.ppf(0.99,loc=mean_acid,scale=std_acid), 100)\n",
    "array = norm.pdf(x,loc=mean_acid,scale=std_acid)\n",
    "plt.figure(figsize=[8,5])\n",
    "plt.plot(x, array,'r-', lw=5, alpha=0.6, label='norm pdf')\n",
    "plt.vlines(conf_interval, 0, norm.pdf(conf_interval,loc=mean_acid,scale=std_acid), colors='b', lw=2, alpha=0.2)\n",
    "plt.xticks(fontsize=12)\n",
    "plt.yticks(fontsize=12)\n",
    "plt.legend(fontsize=14)"
   ]
  },
  {
   "cell_type": "markdown",
   "metadata": {},
   "source": [
    "## Bonus Challenge\n",
    "The error level or sampling error for the first challenge is given by the following expression:\n",
    "$$Error = z_{\\frac{\\alpha}{2}}\\frac{\\sigma}{\\sqrt n}$$\n",
    "Where z represents the value for N(0,1)\n",
    "\n",
    "\n",
    "Suppose that with the previous data of challenge 1, and with a confidence level of\n",
    "99% (that is, almost certainly) we want to estimate the average population size, so that the error level committed is not greater than half a centimeter.\n",
    "\n",
    "#### 1.- Determine what size the selected sample of men should be."
   ]
  },
  {
   "cell_type": "code",
   "execution_count": 8,
   "metadata": {},
   "outputs": [],
   "source": [
    "# your code here"
   ]
  },
  {
   "cell_type": "markdown",
   "metadata": {},
   "source": [
    "#### 2.- For the second challenge, we have the following error:\n",
    "$$ Error = z_{\\frac{\\alpha}{2}}\\sqrt{\\frac{p\\times q}{n}} $$\n",
    "#### Determine the sample size required to not exceed an error of 1% with a confidence of 80%."
   ]
  },
  {
   "cell_type": "code",
   "execution_count": 9,
   "metadata": {},
   "outputs": [],
   "source": [
    "# your code here"
   ]
  },
  {
   "cell_type": "markdown",
   "metadata": {},
   "source": [
    "## Bonus Challenge\n",
    "\n",
    "Let's consider the following problem:\n",
    "\n",
    "Build a confidence interval of 94% for the real difference between the durations of two brands of spotlights, if a sample of 40 spotlights taken randomly from the first mark gave an average duration of 418 hours, and a sample of 50 bulbs of another brand gave a duration average of 402 hours. The standard deviations of the two\n",
    "populations are 26 hours and 22 hours, respectively.\n",
    "\n",
    "Sometimes, we will be interested in the difference of two different groups of random variables. We can also build a confidence interval for that! We have some different cases regarding the variance but for this specific case (the variance are different and known), we have that:\n",
    "\n",
    "$$\\overline{X} - \\overline{Y}  \\sim N(\\mu_{X} - \\mu_{Y} , \\sqrt{\\frac{\\sigma_{X}^2}{n_X}+\\frac{\\sigma_{Y}^2}{n_Y}})$$\n",
    "\n",
    "Solve the problem with this information."
   ]
  },
  {
   "cell_type": "code",
   "execution_count": 10,
   "metadata": {},
   "outputs": [],
   "source": [
    "# your code here"
   ]
  }
 ],
 "metadata": {
  "kernelspec": {
   "display_name": "Python 3",
   "language": "python",
   "name": "python3"
  },
  "language_info": {
   "codemirror_mode": {
    "name": "ipython",
    "version": 3
   },
   "file_extension": ".py",
   "mimetype": "text/x-python",
   "name": "python",
   "nbconvert_exporter": "python",
   "pygments_lexer": "ipython3",
   "version": "3.7.6"
  }
 },
 "nbformat": 4,
 "nbformat_minor": 2
}
